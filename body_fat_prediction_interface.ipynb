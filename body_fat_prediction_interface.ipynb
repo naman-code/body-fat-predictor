{
 "cells": [
  {
   "cell_type": "code",
   "execution_count": 2,
   "metadata": {},
   "outputs": [],
   "source": [
    "import pickle as pkl \n",
    "model = pkl.load(open('bmi_model','rb'))\n",
    "model1 = pkl.load(open('Data_transforming_model','rb'))"
   ]
  },
  {
   "cell_type": "code",
   "execution_count": null,
   "metadata": {},
   "outputs": [
    {
     "name": "stdout",
     "output_type": "stream",
     "text": [
      "WELCOME to Body Fat Prediction \n",
      "For accurate  prediction enter  details as follow\n",
      "Enter 1 to continue or press 2 to exit the application - 1\n",
      "------------------------------------------------------------\n",
      "Enter your age - 43\n",
      "------------------------------------------------------------\n"
     ]
    }
   ],
   "source": [
    "data = [[0,0,0,0,0,0,0,0,0,0,0,0,0]]\n",
    "ch = 1\n",
    "print(\"WELCOME to Body Fat Prediction \")\n",
    "print(\"For accurate  prediction enter  details as follow\")\n",
    "while(ch == 1):\n",
    "    val = int(input((\"Enter 1 to continue or press 2 to exit the application - \")))\n",
    "    if val == 1:\n",
    "        print(\"------------------------------------------------------------\")\n",
    "        age = int(input(\"Enter your age - \"))\n",
    "        data[0][0] = age\n",
    "        print(\"------------------------------------------------------------\")\n",
    "        weight = float(input(\"Please enter your weight in lbs - \"))\n",
    "        data[0][1] = weight\n",
    "        print(\"------------------------------------------------------------\")\n",
    "        height = int(input(\"Please enter your height in inches - \"))\n",
    "        data[0][2] = height\n",
    "        print(\"------------------------------------------------------------\")\n",
    "        neck = int(input(\"Please enter your neck size in cm\"))\n",
    "        data[0][3] = neck\n",
    "        print(\"------------------------------------------------------------\")\n",
    "        chest= int(input(\"Please enter your chest size in cm - \"))\n",
    "        data[0][4] = chest\n",
    "        print(\"------------------------------------------------------------\")\n",
    "        abdomen = int(input((\"Please enter your abdomen size in cm - \")))\n",
    "        data[0][5]= abdomen\n",
    "        print(\"------------------------------------------------------------\")\n",
    "        hip= int(input(\"Please enter your hip circumference in cm - \"))\n",
    "        data[0][6] =hip\n",
    "        print(\"------------------------------------------------------------\")\n",
    "        thigh= int(input(\"Please enter your thigh circumference in cm - \"))\n",
    "        data[0][7] =thigh\n",
    "        print(\"------------------------------------------------------------\")\n",
    "        knee= int(input(\"Please enter your knee circumference in cm - \"))\n",
    "        data[0][8] =knee\n",
    "        print(\"------------------------------------------------------------\")\n",
    "        ankle= int(input(\"Please enter your ankle circumference in cm - \"))\n",
    "        data[0][9] =ankle\n",
    "        print(\"------------------------------------------------------------\")\n",
    "        bicep= int(input(\"Please enter your bicep circumference in cm - \"))\n",
    "        data[0][10] =bicep\n",
    "        print(\"------------------------------------------------------------\")\n",
    "        forearm= int(input(\"Please enter your forearm circumference in cm - \"))\n",
    "        data[0][11] =forearm\n",
    "        print(\"------------------------------------------------------------\")\n",
    "        wrist= int(input(\"Please enter your ankle circumference in cm - \"))\n",
    "        data[0][12] =wrist\n",
    "    if val == 2:\n",
    "        ch = 0\n",
    "    else:\n",
    "        print(\"Please enter a valid choice\")\n",
    "data = model1.transform(data)\n",
    "final = model.predict(data)\n",
    "print(\"Body mass of your body is predicted to be {}\".format(final[0]))"
   ]
  },
  {
   "cell_type": "code",
   "execution_count": null,
   "metadata": {},
   "outputs": [],
   "source": []
  }
 ],
 "metadata": {
  "kernelspec": {
   "display_name": "Python 3",
   "language": "python",
   "name": "python3"
  },
  "language_info": {
   "codemirror_mode": {
    "name": "ipython",
    "version": 3
   },
   "file_extension": ".py",
   "mimetype": "text/x-python",
   "name": "python",
   "nbconvert_exporter": "python",
   "pygments_lexer": "ipython3",
   "version": "3.8.5"
  }
 },
 "nbformat": 4,
 "nbformat_minor": 4
}
